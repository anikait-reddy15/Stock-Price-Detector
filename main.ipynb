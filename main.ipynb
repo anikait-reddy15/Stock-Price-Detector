{
 "cells": [
  {
   "cell_type": "code",
   "execution_count": 22,
   "metadata": {},
   "outputs": [],
   "source": [
    "import numpy as np\n",
    "import pandas as pd\n",
    "import matplotlib.pyplot as plt\n",
    "import seaborn as sns\n",
    "from sklearn.model_selection import train_test_split\n",
    "from sklearn.linear_model import LinearRegression\n",
    "from sklearn.metrics import mean_squared_error, r2_score"
   ]
  },
  {
   "cell_type": "code",
   "execution_count": null,
   "metadata": {},
   "outputs": [],
   "source": [
    "df = pd.read_excel('yahoo_data.xlsx')"
   ]
  },
  {
   "cell_type": "code",
   "execution_count": 24,
   "metadata": {},
   "outputs": [
    {
     "data": {
      "text/html": [
       "<div>\n",
       "<style scoped>\n",
       "    .dataframe tbody tr th:only-of-type {\n",
       "        vertical-align: middle;\n",
       "    }\n",
       "\n",
       "    .dataframe tbody tr th {\n",
       "        vertical-align: top;\n",
       "    }\n",
       "\n",
       "    .dataframe thead th {\n",
       "        text-align: right;\n",
       "    }\n",
       "</style>\n",
       "<table border=\"1\" class=\"dataframe\">\n",
       "  <thead>\n",
       "    <tr style=\"text-align: right;\">\n",
       "      <th></th>\n",
       "      <th>Date</th>\n",
       "      <th>Open</th>\n",
       "      <th>High</th>\n",
       "      <th>Low</th>\n",
       "      <th>Close*</th>\n",
       "      <th>Adj Close**</th>\n",
       "      <th>Volume</th>\n",
       "    </tr>\n",
       "  </thead>\n",
       "  <tbody>\n",
       "    <tr>\n",
       "      <th>0</th>\n",
       "      <td>Apr 28, 2023</td>\n",
       "      <td>33797.43</td>\n",
       "      <td>34104.56</td>\n",
       "      <td>33728.40</td>\n",
       "      <td>34098.16</td>\n",
       "      <td>34098.16</td>\n",
       "      <td>354310000</td>\n",
       "    </tr>\n",
       "    <tr>\n",
       "      <th>1</th>\n",
       "      <td>Apr 27, 2023</td>\n",
       "      <td>33381.66</td>\n",
       "      <td>33859.75</td>\n",
       "      <td>33374.65</td>\n",
       "      <td>33826.16</td>\n",
       "      <td>33826.16</td>\n",
       "      <td>343240000</td>\n",
       "    </tr>\n",
       "    <tr>\n",
       "      <th>2</th>\n",
       "      <td>Apr 26, 2023</td>\n",
       "      <td>33596.34</td>\n",
       "      <td>33645.83</td>\n",
       "      <td>33235.85</td>\n",
       "      <td>33301.87</td>\n",
       "      <td>33301.87</td>\n",
       "      <td>321170000</td>\n",
       "    </tr>\n",
       "    <tr>\n",
       "      <th>3</th>\n",
       "      <td>Apr 25, 2023</td>\n",
       "      <td>33828.34</td>\n",
       "      <td>33875.49</td>\n",
       "      <td>33525.39</td>\n",
       "      <td>33530.83</td>\n",
       "      <td>33530.83</td>\n",
       "      <td>297880000</td>\n",
       "    </tr>\n",
       "    <tr>\n",
       "      <th>4</th>\n",
       "      <td>Apr 24, 2023</td>\n",
       "      <td>33805.04</td>\n",
       "      <td>33891.15</td>\n",
       "      <td>33726.09</td>\n",
       "      <td>33875.40</td>\n",
       "      <td>33875.40</td>\n",
       "      <td>252020000</td>\n",
       "    </tr>\n",
       "    <tr>\n",
       "      <th>...</th>\n",
       "      <td>...</td>\n",
       "      <td>...</td>\n",
       "      <td>...</td>\n",
       "      <td>...</td>\n",
       "      <td>...</td>\n",
       "      <td>...</td>\n",
       "      <td>...</td>\n",
       "    </tr>\n",
       "    <tr>\n",
       "      <th>1253</th>\n",
       "      <td>May 07, 2018</td>\n",
       "      <td>24317.66</td>\n",
       "      <td>24479.45</td>\n",
       "      <td>24263.42</td>\n",
       "      <td>24357.32</td>\n",
       "      <td>24357.32</td>\n",
       "      <td>307670000</td>\n",
       "    </tr>\n",
       "    <tr>\n",
       "      <th>1254</th>\n",
       "      <td>May 04, 2018</td>\n",
       "      <td>23865.22</td>\n",
       "      <td>24333.35</td>\n",
       "      <td>23778.87</td>\n",
       "      <td>24262.51</td>\n",
       "      <td>24262.51</td>\n",
       "      <td>329480000</td>\n",
       "    </tr>\n",
       "    <tr>\n",
       "      <th>1255</th>\n",
       "      <td>May 03, 2018</td>\n",
       "      <td>23836.23</td>\n",
       "      <td>23996.15</td>\n",
       "      <td>23531.31</td>\n",
       "      <td>23930.15</td>\n",
       "      <td>23930.15</td>\n",
       "      <td>389240000</td>\n",
       "    </tr>\n",
       "    <tr>\n",
       "      <th>1256</th>\n",
       "      <td>May 02, 2018</td>\n",
       "      <td>24097.63</td>\n",
       "      <td>24185.52</td>\n",
       "      <td>23886.30</td>\n",
       "      <td>23924.98</td>\n",
       "      <td>23924.98</td>\n",
       "      <td>385350000</td>\n",
       "    </tr>\n",
       "    <tr>\n",
       "      <th>1257</th>\n",
       "      <td>May 01, 2018</td>\n",
       "      <td>24117.29</td>\n",
       "      <td>24117.29</td>\n",
       "      <td>23808.19</td>\n",
       "      <td>24099.05</td>\n",
       "      <td>24099.05</td>\n",
       "      <td>380070000</td>\n",
       "    </tr>\n",
       "  </tbody>\n",
       "</table>\n",
       "<p>1258 rows × 7 columns</p>\n",
       "</div>"
      ],
      "text/plain": [
       "              Date      Open      High       Low    Close*  Adj Close**  \\\n",
       "0     Apr 28, 2023  33797.43  34104.56  33728.40  34098.16     34098.16   \n",
       "1     Apr 27, 2023  33381.66  33859.75  33374.65  33826.16     33826.16   \n",
       "2     Apr 26, 2023  33596.34  33645.83  33235.85  33301.87     33301.87   \n",
       "3     Apr 25, 2023  33828.34  33875.49  33525.39  33530.83     33530.83   \n",
       "4     Apr 24, 2023  33805.04  33891.15  33726.09  33875.40     33875.40   \n",
       "...            ...       ...       ...       ...       ...          ...   \n",
       "1253  May 07, 2018  24317.66  24479.45  24263.42  24357.32     24357.32   \n",
       "1254  May 04, 2018  23865.22  24333.35  23778.87  24262.51     24262.51   \n",
       "1255  May 03, 2018  23836.23  23996.15  23531.31  23930.15     23930.15   \n",
       "1256  May 02, 2018  24097.63  24185.52  23886.30  23924.98     23924.98   \n",
       "1257  May 01, 2018  24117.29  24117.29  23808.19  24099.05     24099.05   \n",
       "\n",
       "         Volume  \n",
       "0     354310000  \n",
       "1     343240000  \n",
       "2     321170000  \n",
       "3     297880000  \n",
       "4     252020000  \n",
       "...         ...  \n",
       "1253  307670000  \n",
       "1254  329480000  \n",
       "1255  389240000  \n",
       "1256  385350000  \n",
       "1257  380070000  \n",
       "\n",
       "[1258 rows x 7 columns]"
      ]
     },
     "execution_count": 24,
     "metadata": {},
     "output_type": "execute_result"
    }
   ],
   "source": [
    "df"
   ]
  },
  {
   "cell_type": "code",
   "execution_count": 25,
   "metadata": {},
   "outputs": [
    {
     "data": {
      "text/plain": [
       "(1258, 7)"
      ]
     },
     "execution_count": 25,
     "metadata": {},
     "output_type": "execute_result"
    }
   ],
   "source": [
    "df.shape"
   ]
  },
  {
   "cell_type": "code",
   "execution_count": 30,
   "metadata": {},
   "outputs": [],
   "source": [
    "x1 = df.drop(\"Close*\", axis = 1)\n",
    "x2 = x1.drop(\"Adj Close**\", axis = 1)\n",
    "x = x2.drop(\"Date\", axis = 1)\n",
    "y = df[\"Close*\"]"
   ]
  },
  {
   "cell_type": "code",
   "execution_count": 31,
   "metadata": {},
   "outputs": [],
   "source": [
    "x_train, x_test, y_train, y_test = train_test_split(x, y, test_size=0.2, random_state=42)"
   ]
  },
  {
   "cell_type": "code",
   "execution_count": 36,
   "metadata": {},
   "outputs": [],
   "source": [
    "lr = LinearRegression()\n",
    "lr.fit(x_train, y_train)\n",
    "y_pred = lr.predict(x_test)"
   ]
  },
  {
   "cell_type": "code",
   "execution_count": 48,
   "metadata": {},
   "outputs": [],
   "source": [
    "def calculate_metrics(y_test, y_pred):\n",
    "    mse = mean_squared_error(y_test, y_pred)\n",
    "    rmse = np.sqrt(mse)\n",
    "    r2_scores = r2_score(y_test, y_pred)\n",
    "    \n",
    "    print(f\"Mean square error : {mse}\\nRoot mean square error : {rmse}\\nr2_score : {r2_scores}\")"
   ]
  },
  {
   "cell_type": "code",
   "execution_count": 49,
   "metadata": {},
   "outputs": [
    {
     "name": "stdout",
     "output_type": "stream",
     "text": [
      "Mean square error : 13354.937519249463\n",
      "Root mean square error : 115.56356484311767\n",
      "r2_score : 0.999176579870874\n"
     ]
    }
   ],
   "source": [
    "calculate_metrics(y_test, y_pred)"
   ]
  }
 ],
 "metadata": {
  "kernelspec": {
   "display_name": "base",
   "language": "python",
   "name": "python3"
  },
  "language_info": {
   "codemirror_mode": {
    "name": "ipython",
    "version": 3
   },
   "file_extension": ".py",
   "mimetype": "text/x-python",
   "name": "python",
   "nbconvert_exporter": "python",
   "pygments_lexer": "ipython3",
   "version": "3.11.7"
  }
 },
 "nbformat": 4,
 "nbformat_minor": 2
}
